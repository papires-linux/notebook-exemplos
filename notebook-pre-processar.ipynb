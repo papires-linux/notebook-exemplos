{
 "cells": [
  {
   "cell_type": "markdown",
   "metadata": {
    "id": "VJYj4w1gVD1G"
   },
   "source": [
    "#  Fazendo o processamento do arquivo tvaberta_program_audience.csv\n",
    "### Importando as *bibliotecas*"
   ]
  },
  {
   "cell_type": "code",
   "execution_count": 1,
   "metadata": {
    "id": "u37Pb8VbUqR-",
    "tags": []
   },
   "outputs": [
    {
     "output_type": "stream",
     "name": "stdout",
     "text": "Requirement already satisfied: pandas in /media/Arquivos/piresp/Documents/acc/GloboTV/venv/lib/python3.8/site-packages (1.1.3)\nRequirement already satisfied: pytz&gt;=2017.2 in /media/Arquivos/piresp/Documents/acc/GloboTV/venv/lib/python3.8/site-packages (from pandas) (2020.1)\nRequirement already satisfied: python-dateutil&gt;=2.7.3 in /media/Arquivos/piresp/Documents/acc/GloboTV/venv/lib/python3.8/site-packages (from pandas) (2.8.1)\nRequirement already satisfied: numpy&gt;=1.15.4 in /media/Arquivos/piresp/Documents/acc/GloboTV/venv/lib/python3.8/site-packages (from pandas) (1.19.2)\nRequirement already satisfied: six&gt;=1.5 in /media/Arquivos/piresp/Documents/acc/GloboTV/venv/lib/python3.8/site-packages (from python-dateutil&gt;=2.7.3-&gt;pandas) (1.14.0)\n"
    },
    {
     "output_type": "error",
     "ename": "ModuleNotFoundError",
     "evalue": "No module named &#39;pandas&#39;",
     "traceback": [
      "\u001b[0;31m---------------------------------------------------------------------------\u001b[0m",
      "\u001b[0;31mModuleNotFoundError\u001b[0m                       Traceback (most recent call last)",
      "\u001b[0;32m&lt;ipython-input-1-ebe01126e4ee&gt;\u001b[0m in \u001b[0;36m&lt;module&gt;\u001b[0;34m\u001b[0m\n\u001b[1;32m      1\u001b[0m \u001b[0mget_ipython\u001b[0m\u001b[0;34m(\u001b[0m\u001b[0;34m)\u001b[0m\u001b[0;34m.\u001b[0m\u001b[0msystem\u001b[0m\u001b[0;34m(\u001b[0m\u001b[0;34m&#39;pip install pandas&#39;\u001b[0m\u001b[0;34m)\u001b[0m\u001b[0;34m\u001b[0m\u001b[0;34m\u001b[0m\u001b[0m\n\u001b[1;32m      2\u001b[0m \u001b[0;34m\u001b[0m\u001b[0m\n\u001b[0;32m----&gt; 3\u001b[0;31m \u001b[0;32mimport\u001b[0m \u001b[0mpandas\u001b[0m \u001b[0;32mas\u001b[0m \u001b[0mpd\u001b[0m\u001b[0;34m\u001b[0m\u001b[0;34m\u001b[0m\u001b[0m\n\u001b[0m\u001b[1;32m      4\u001b[0m \u001b[0;32mimport\u001b[0m \u001b[0mdatetime\u001b[0m\u001b[0;34m,\u001b[0m\u001b[0mos\u001b[0m\u001b[0;34m\u001b[0m\u001b[0;34m\u001b[0m\u001b[0m\n\u001b[1;32m      5\u001b[0m \u001b[0;32mfrom\u001b[0m \u001b[0mgoogle\u001b[0m\u001b[0;34m.\u001b[0m\u001b[0moauth2\u001b[0m \u001b[0;32mimport\u001b[0m \u001b[0mservice_account\u001b[0m\u001b[0;34m\u001b[0m\u001b[0;34m\u001b[0m\u001b[0m\n",
      "\u001b[0;31mModuleNotFoundError\u001b[0m: No module named &#39;pandas&#39;"
     ]
    }
   ],
   "source": [
    "!pip install pandas\n",
    "\n",
    "import pandas as pd\n",
    "import datetime,os\n",
    "from google.oauth2 import service_account\n",
    "\n",
    "###\n",
    "file_audiencia = \"tvaberta_program_audience.csv\"\n",
    "path_audiencia = \"gs://bucket-for-teste/pre-processar/\" + file_audiencia\n",
    "\n",
    "file_inventory = \"tvaberta_inventory_availability.csv\"\n",
    "path_inventory = \"gs://bucket-for-teste/pre-processar/\" + file_inventory\n",
    "\n",
    "file_resultado_final = \"resultado.csv\"\n",
    "path_resultado_final = \"gs://bucket-for-teste/bq-resultado/\" + file_resultado_final\n",
    "\n",
    "path_backup = \"gs://bkp-resultado-bq-tv-aberta/backup\"\n",
    "\n",
    "!gsutil -m cp {path_audiencia} .\n",
    "!gsutil -m cp {path_inventory} .\n"
   ]
  },
  {
   "cell_type": "markdown",
   "metadata": {
    "id": "Lpinu-soVlEr"
   },
   "source": [
    "### Metodo para passar a data para dia da semana.\n"
   ]
  },
  {
   "cell_type": "code",
   "execution_count": 5,
   "metadata": {
    "id": "osNBwxnEVqEN"
   },
   "outputs": [],
   "source": [
    "def get_weekend_v1(YYYY_MM_DD):\n",
    "  year=YYYY_MM_DD.split('-')[0]\n",
    "  mouth=YYYY_MM_DD.split('-')[1]\n",
    "  day=YYYY_MM_DD.split('-')[2]\n",
    "  today = datetime.datetime(int(year), int(mouth), int(day))\n",
    "  return today.weekday()\n",
    "\n",
    "def get_weekend_v2(DD_MM_AAAA):\n",
    "  year=DD_MM_AAAA.split('/')[2]\n",
    "  mouth=DD_MM_AAAA.split('/')[1]\n",
    "  day=DD_MM_AAAA.split('/')[0]\n",
    "  today = datetime.datetime(int(year), int(mouth), int(day))\n",
    "  return today.weekday()\n",
    "  "
   ]
  },
  {
   "cell_type": "markdown",
   "metadata": {
    "id": "cU_CEYVqVzrg"
   },
   "source": [
    "### Carregar o arquivo csv."
   ]
  },
  {
   "cell_type": "code",
   "execution_count": 6,
   "metadata": {
    "colab": {
     "base_uri": "https://localhost:8080/",
     "height": 491
    },
    "id": "UxWrFSEvWliL",
    "outputId": "bb73d1bb-3f65-4156-8b7d-153f0f93d027"
   },
   "outputs": [
    {
     "output_type": "execute_result",
     "data": {
      "text/plain": "     signal program_code exhibition_date        program_start_time  \\\n0       SP1         PTV1      2020-06-05  2020-06-05T15:01:00.000Z   \n1       SP1         VALE      2020-06-24  2020-06-24T19:36:00.000Z   \n2        BH         PTV1      2020-05-23  2020-05-23T15:01:00.000Z   \n3        DF         AUTO      2020-05-03  2020-05-03T12:14:00.000Z   \n4        DF         FGGE      2020-05-03  2020-05-03T18:46:00.000Z   \n...     ...          ...             ...                       ...   \n8982    NAC         N18H      2020-05-04  2020-05-04T21:31:00.000Z   \n8983    NAC         JHOJ      2020-05-13  2020-05-13T16:25:00.000Z   \n8984    NAC         SHOV      2020-06-07  2020-06-07T15:30:00.000Z   \n8985    NAC         SHOV      2020-05-17  2020-05-17T15:30:00.000Z   \n8986    NAC         COR3      2020-05-15  2020-05-15T07:40:00.000Z   \n\n      average_audience  \n0         9.338920e+05  \n1         1.835375e+06  \n2         2.874812e+05  \n3         8.649481e+04  \n4         1.521656e+05  \n...                ...  \n8982      2.093098e+07  \n8983      1.331286e+07  \n8984      8.610939e+06  \n8985      1.056899e+07  \n8986      2.958759e+06  \n\n[8987 rows x 5 columns]",
      "text/html": "<div>\n<style scoped>\n    .dataframe tbody tr th:only-of-type {\n        vertical-align: middle;\n    }\n\n    .dataframe tbody tr th {\n        vertical-align: top;\n    }\n\n    .dataframe thead th {\n        text-align: right;\n    }\n</style>\n<table border=\"1\" class=\"dataframe\">\n  <thead>\n    <tr style=\"text-align: right;\">\n      <th></th>\n      <th>signal</th>\n      <th>program_code</th>\n      <th>exhibition_date</th>\n      <th>program_start_time</th>\n      <th>average_audience</th>\n    </tr>\n  </thead>\n  <tbody>\n    <tr>\n      <th>0</th>\n      <td>SP1</td>\n      <td>PTV1</td>\n      <td>2020-06-05</td>\n      <td>2020-06-05T15:01:00.000Z</td>\n      <td>9.338920e+05</td>\n    </tr>\n    <tr>\n      <th>1</th>\n      <td>SP1</td>\n      <td>VALE</td>\n      <td>2020-06-24</td>\n      <td>2020-06-24T19:36:00.000Z</td>\n      <td>1.835375e+06</td>\n    </tr>\n    <tr>\n      <th>2</th>\n      <td>BH</td>\n      <td>PTV1</td>\n      <td>2020-05-23</td>\n      <td>2020-05-23T15:01:00.000Z</td>\n      <td>2.874812e+05</td>\n    </tr>\n    <tr>\n      <th>3</th>\n      <td>DF</td>\n      <td>AUTO</td>\n      <td>2020-05-03</td>\n      <td>2020-05-03T12:14:00.000Z</td>\n      <td>8.649481e+04</td>\n    </tr>\n    <tr>\n      <th>4</th>\n      <td>DF</td>\n      <td>FGGE</td>\n      <td>2020-05-03</td>\n      <td>2020-05-03T18:46:00.000Z</td>\n      <td>1.521656e+05</td>\n    </tr>\n    <tr>\n      <th>...</th>\n      <td>...</td>\n      <td>...</td>\n      <td>...</td>\n      <td>...</td>\n      <td>...</td>\n    </tr>\n    <tr>\n      <th>8982</th>\n      <td>NAC</td>\n      <td>N18H</td>\n      <td>2020-05-04</td>\n      <td>2020-05-04T21:31:00.000Z</td>\n      <td>2.093098e+07</td>\n    </tr>\n    <tr>\n      <th>8983</th>\n      <td>NAC</td>\n      <td>JHOJ</td>\n      <td>2020-05-13</td>\n      <td>2020-05-13T16:25:00.000Z</td>\n      <td>1.331286e+07</td>\n    </tr>\n    <tr>\n      <th>8984</th>\n      <td>NAC</td>\n      <td>SHOV</td>\n      <td>2020-06-07</td>\n      <td>2020-06-07T15:30:00.000Z</td>\n      <td>8.610939e+06</td>\n    </tr>\n    <tr>\n      <th>8985</th>\n      <td>NAC</td>\n      <td>SHOV</td>\n      <td>2020-05-17</td>\n      <td>2020-05-17T15:30:00.000Z</td>\n      <td>1.056899e+07</td>\n    </tr>\n    <tr>\n      <th>8986</th>\n      <td>NAC</td>\n      <td>COR3</td>\n      <td>2020-05-15</td>\n      <td>2020-05-15T07:40:00.000Z</td>\n      <td>2.958759e+06</td>\n    </tr>\n  </tbody>\n</table>\n<p>8987 rows × 5 columns</p>\n</div>"
     },
     "metadata": {},
     "execution_count": 6
    }
   ],
   "source": [
    "\n",
    "df = pd.read_csv(file_audiencia)\n",
    "df"
   ]
  },
  {
   "cell_type": "markdown",
   "metadata": {
    "id": "csrCyoDXYXbP"
   },
   "source": [
    "### Criar uma nova coluna chamado weekday.\n"
   ]
  },
  {
   "cell_type": "code",
   "execution_count": 7,
   "metadata": {
    "id": "nj9nbA8aYZL8"
   },
   "outputs": [],
   "source": [
    "df['weekday'] = pd.Series(df.exhibition_date.apply(get_weekend_v1), index=df.index)"
   ]
  },
  {
   "cell_type": "markdown",
   "metadata": {
    "id": "PxkmMxDwYbHq"
   },
   "source": [
    "### Ordenar as colunas.\n"
   ]
  },
  {
   "cell_type": "code",
   "execution_count": 8,
   "metadata": {
    "id": "2AxJWoijYdKo"
   },
   "outputs": [
    {
     "output_type": "execute_result",
     "data": {
      "text/plain": "     signal program_code exhibition_date  weekday  average_audience\n0       SP1         PTV1      2020-06-05        4      9.338920e+05\n1       SP1         VALE      2020-06-24        2      1.835375e+06\n2        BH         PTV1      2020-05-23        5      2.874812e+05\n3        DF         AUTO      2020-05-03        6      8.649481e+04\n4        DF         FGGE      2020-05-03        6      1.521656e+05\n...     ...          ...             ...      ...               ...\n8982    NAC         N18H      2020-05-04        0      2.093098e+07\n8983    NAC         JHOJ      2020-05-13        2      1.331286e+07\n8984    NAC         SHOV      2020-06-07        6      8.610939e+06\n8985    NAC         SHOV      2020-05-17        6      1.056899e+07\n8986    NAC         COR3      2020-05-15        4      2.958759e+06\n\n[8987 rows x 5 columns]",
      "text/html": "<div>\n<style scoped>\n    .dataframe tbody tr th:only-of-type {\n        vertical-align: middle;\n    }\n\n    .dataframe tbody tr th {\n        vertical-align: top;\n    }\n\n    .dataframe thead th {\n        text-align: right;\n    }\n</style>\n<table border=\"1\" class=\"dataframe\">\n  <thead>\n    <tr style=\"text-align: right;\">\n      <th></th>\n      <th>signal</th>\n      <th>program_code</th>\n      <th>exhibition_date</th>\n      <th>weekday</th>\n      <th>average_audience</th>\n    </tr>\n  </thead>\n  <tbody>\n    <tr>\n      <th>0</th>\n      <td>SP1</td>\n      <td>PTV1</td>\n      <td>2020-06-05</td>\n      <td>4</td>\n      <td>9.338920e+05</td>\n    </tr>\n    <tr>\n      <th>1</th>\n      <td>SP1</td>\n      <td>VALE</td>\n      <td>2020-06-24</td>\n      <td>2</td>\n      <td>1.835375e+06</td>\n    </tr>\n    <tr>\n      <th>2</th>\n      <td>BH</td>\n      <td>PTV1</td>\n      <td>2020-05-23</td>\n      <td>5</td>\n      <td>2.874812e+05</td>\n    </tr>\n    <tr>\n      <th>3</th>\n      <td>DF</td>\n      <td>AUTO</td>\n      <td>2020-05-03</td>\n      <td>6</td>\n      <td>8.649481e+04</td>\n    </tr>\n    <tr>\n      <th>4</th>\n      <td>DF</td>\n      <td>FGGE</td>\n      <td>2020-05-03</td>\n      <td>6</td>\n      <td>1.521656e+05</td>\n    </tr>\n    <tr>\n      <th>...</th>\n      <td>...</td>\n      <td>...</td>\n      <td>...</td>\n      <td>...</td>\n      <td>...</td>\n    </tr>\n    <tr>\n      <th>8982</th>\n      <td>NAC</td>\n      <td>N18H</td>\n      <td>2020-05-04</td>\n      <td>0</td>\n      <td>2.093098e+07</td>\n    </tr>\n    <tr>\n      <th>8983</th>\n      <td>NAC</td>\n      <td>JHOJ</td>\n      <td>2020-05-13</td>\n      <td>2</td>\n      <td>1.331286e+07</td>\n    </tr>\n    <tr>\n      <th>8984</th>\n      <td>NAC</td>\n      <td>SHOV</td>\n      <td>2020-06-07</td>\n      <td>6</td>\n      <td>8.610939e+06</td>\n    </tr>\n    <tr>\n      <th>8985</th>\n      <td>NAC</td>\n      <td>SHOV</td>\n      <td>2020-05-17</td>\n      <td>6</td>\n      <td>1.056899e+07</td>\n    </tr>\n    <tr>\n      <th>8986</th>\n      <td>NAC</td>\n      <td>COR3</td>\n      <td>2020-05-15</td>\n      <td>4</td>\n      <td>2.958759e+06</td>\n    </tr>\n  </tbody>\n</table>\n<p>8987 rows × 5 columns</p>\n</div>"
     },
     "metadata": {},
     "execution_count": 8
    }
   ],
   "source": [
    "df.loc[:,[\"signal\",\"program_code\",\"exhibition_date\",\"weekday\",\"average_audience\"]]"
   ]
  },
  {
   "cell_type": "markdown",
   "metadata": {
    "id": "fd2ojWHBYgep"
   },
   "source": [
    "#### Fazer cópia do dataframe \n"
   ]
  },
  {
   "cell_type": "code",
   "execution_count": 9,
   "metadata": {
    "id": "omC1ezlKYg9D"
   },
   "outputs": [],
   "source": [
    "novo_df = df.loc[:,[\"signal\",\"program_code\",\"exhibition_date\",\"weekday\",\"average_audience\"]].copy()"
   ]
  },
  {
   "cell_type": "markdown",
   "metadata": {
    "id": "7DNrEWmHYleX"
   },
   "source": [
    "### Ordenar dataframe por exhibition_date\n"
   ]
  },
  {
   "cell_type": "code",
   "execution_count": 10,
   "metadata": {
    "id": "Q-WF7L3CYl3X"
   },
   "outputs": [],
   "source": [
    "data_sort = novo_df.sort_values(['exhibition_date'], ascending=False)"
   ]
  },
  {
   "cell_type": "markdown",
   "metadata": {
    "id": "vrj2gn2XYpJQ"
   },
   "source": [
    "### Group as colunas para fazer a mediana, pegando os últimos quatros registros do dia da semana.\n"
   ]
  },
  {
   "cell_type": "code",
   "execution_count": 11,
   "metadata": {
    "id": "wJ7Sjc18YqVf"
   },
   "outputs": [],
   "source": [
    "data_gby = data_sort.groupby(['signal','program_code','weekday']).head(4) "
   ]
  },
  {
   "cell_type": "markdown",
   "metadata": {
    "id": "g8MDPOZqYt-T"
   },
   "source": [
    "### Calcula a mediana\n"
   ]
  },
  {
   "cell_type": "code",
   "execution_count": 12,
   "metadata": {
    "id": "0oxuSyvKYueD"
   },
   "outputs": [
    {
     "output_type": "execute_result",
     "data": {
      "text/plain": "                             average_audience\nsignal program_code weekday                  \nBH     ACDA         5               460454.20\n       ALTA         5               201008.82\n       AUTO         6               197990.32\n       BIAL         0               113326.74\n                    1                90521.87\n...                                       ...\nSP1    VALE         3              1827112.19\n                    4              1856927.41\n       VOIK         6               994919.87\n       ZORR         5              1693933.70\n       _999         5               717788.87\n\n[977 rows x 1 columns]",
      "text/html": "<div>\n<style scoped>\n    .dataframe tbody tr th:only-of-type {\n        vertical-align: middle;\n    }\n\n    .dataframe tbody tr th {\n        vertical-align: top;\n    }\n\n    .dataframe thead th {\n        text-align: right;\n    }\n</style>\n<table border=\"1\" class=\"dataframe\">\n  <thead>\n    <tr style=\"text-align: right;\">\n      <th></th>\n      <th></th>\n      <th></th>\n      <th>average_audience</th>\n    </tr>\n    <tr>\n      <th>signal</th>\n      <th>program_code</th>\n      <th>weekday</th>\n      <th></th>\n    </tr>\n  </thead>\n  <tbody>\n    <tr>\n      <th rowspan=\"5\" valign=\"top\">BH</th>\n      <th>ACDA</th>\n      <th>5</th>\n      <td>460454.20</td>\n    </tr>\n    <tr>\n      <th>ALTA</th>\n      <th>5</th>\n      <td>201008.82</td>\n    </tr>\n    <tr>\n      <th>AUTO</th>\n      <th>6</th>\n      <td>197990.32</td>\n    </tr>\n    <tr>\n      <th rowspan=\"2\" valign=\"top\">BIAL</th>\n      <th>0</th>\n      <td>113326.74</td>\n    </tr>\n    <tr>\n      <th>1</th>\n      <td>90521.87</td>\n    </tr>\n    <tr>\n      <th>...</th>\n      <th>...</th>\n      <th>...</th>\n      <td>...</td>\n    </tr>\n    <tr>\n      <th rowspan=\"5\" valign=\"top\">SP1</th>\n      <th rowspan=\"2\" valign=\"top\">VALE</th>\n      <th>3</th>\n      <td>1827112.19</td>\n    </tr>\n    <tr>\n      <th>4</th>\n      <td>1856927.41</td>\n    </tr>\n    <tr>\n      <th>VOIK</th>\n      <th>6</th>\n      <td>994919.87</td>\n    </tr>\n    <tr>\n      <th>ZORR</th>\n      <th>5</th>\n      <td>1693933.70</td>\n    </tr>\n    <tr>\n      <th>_999</th>\n      <th>5</th>\n      <td>717788.87</td>\n    </tr>\n  </tbody>\n</table>\n<p>977 rows × 1 columns</p>\n</div>"
     },
     "metadata": {},
     "execution_count": 12
    }
   ],
   "source": [
    "df_audience = data_gby.groupby(['signal','program_code','weekday'], as_index=True).median().round({'average_audience': 2})\n",
    "df_audience"
   ]
  },
  {
   "cell_type": "markdown",
   "metadata": {
    "id": "qFA63EYmYy27"
   },
   "source": [
    "### Export o dataframe csv"
   ]
  },
  {
   "cell_type": "code",
   "execution_count": 13,
   "metadata": {
    "id": "7ncuAVszYQuc",
    "tags": []
   },
   "outputs": [
    {
     "output_type": "stream",
     "name": "stdout",
     "text": "&lt;class &#39;pandas.core.frame.DataFrame&#39;&gt;\nMultiIndex: 977 entries, (&#39;BH&#39;, &#39;ACDA&#39;, 5) to (&#39;SP1&#39;, &#39;_999&#39;, 5)\nData columns (total 1 columns):\n #   Column            Non-Null Count  Dtype  \n---  ------            --------------  -----  \n 0   average_audience  977 non-null    float64\ndtypes: float64(1)\nmemory usage: 11.5+ KB\n"
    }
   ],
   "source": [
    "df_audience.info()"
   ]
  },
  {
   "cell_type": "markdown",
   "metadata": {
    "id": "d4vHa7KhzhSP"
   },
   "source": [
    "\n",
    "\n",
    "---\n",
    "\n",
    "\n",
    "\n",
    "---\n",
    "\n",
    "\n",
    "\n",
    "---\n",
    "\n"
   ]
  },
  {
   "source": [
    "# Carregar o arquivo do inventroy availability\n"
   ],
   "cell_type": "markdown",
   "metadata": {}
  },
  {
   "cell_type": "code",
   "execution_count": 15,
   "metadata": {
    "id": "V9shIXWqNAAJ"
   },
   "outputs": [],
   "source": [
    "df_inventory = pd.read_csv(file_inventory, sep=\";\")\n"
   ]
  },
  {
   "source": [
    "### Adicionar a coluna do weekday"
   ],
   "cell_type": "markdown",
   "metadata": {}
  },
  {
   "cell_type": "code",
   "execution_count": 16,
   "metadata": {
    "id": "EG80qkMVw1lI"
   },
   "outputs": [
    {
     "output_type": "execute_result",
     "data": {
      "text/plain": "     signal program_code        date  available_time  weekday\n0       SP1         HUCK  25/07/2020              10        5\n1       SP1         HUCK  01/08/2020             300        5\n2       SP1         HUCK  08/08/2020             118        5\n3       SP1         HUCK  15/08/2020             106        5\n4       SP1         HUCK  22/08/2020               6        5\n...     ...          ...         ...             ...      ...\n2287     BH         NBRA  24/08/2020             218        0\n2288     BH         NBRA  25/08/2020              66        1\n2289     BH         NBRA  26/08/2020              44        2\n2290     BH         NBRA  27/08/2020             190        3\n2291     BH         NBRA  28/08/2020             202        4\n\n[2292 rows x 5 columns]",
      "text/html": "<div>\n<style scoped>\n    .dataframe tbody tr th:only-of-type {\n        vertical-align: middle;\n    }\n\n    .dataframe tbody tr th {\n        vertical-align: top;\n    }\n\n    .dataframe thead th {\n        text-align: right;\n    }\n</style>\n<table border=\"1\" class=\"dataframe\">\n  <thead>\n    <tr style=\"text-align: right;\">\n      <th></th>\n      <th>signal</th>\n      <th>program_code</th>\n      <th>date</th>\n      <th>available_time</th>\n      <th>weekday</th>\n    </tr>\n  </thead>\n  <tbody>\n    <tr>\n      <th>0</th>\n      <td>SP1</td>\n      <td>HUCK</td>\n      <td>25/07/2020</td>\n      <td>10</td>\n      <td>5</td>\n    </tr>\n    <tr>\n      <th>1</th>\n      <td>SP1</td>\n      <td>HUCK</td>\n      <td>01/08/2020</td>\n      <td>300</td>\n      <td>5</td>\n    </tr>\n    <tr>\n      <th>2</th>\n      <td>SP1</td>\n      <td>HUCK</td>\n      <td>08/08/2020</td>\n      <td>118</td>\n      <td>5</td>\n    </tr>\n    <tr>\n      <th>3</th>\n      <td>SP1</td>\n      <td>HUCK</td>\n      <td>15/08/2020</td>\n      <td>106</td>\n      <td>5</td>\n    </tr>\n    <tr>\n      <th>4</th>\n      <td>SP1</td>\n      <td>HUCK</td>\n      <td>22/08/2020</td>\n      <td>6</td>\n      <td>5</td>\n    </tr>\n    <tr>\n      <th>...</th>\n      <td>...</td>\n      <td>...</td>\n      <td>...</td>\n      <td>...</td>\n      <td>...</td>\n    </tr>\n    <tr>\n      <th>2287</th>\n      <td>BH</td>\n      <td>NBRA</td>\n      <td>24/08/2020</td>\n      <td>218</td>\n      <td>0</td>\n    </tr>\n    <tr>\n      <th>2288</th>\n      <td>BH</td>\n      <td>NBRA</td>\n      <td>25/08/2020</td>\n      <td>66</td>\n      <td>1</td>\n    </tr>\n    <tr>\n      <th>2289</th>\n      <td>BH</td>\n      <td>NBRA</td>\n      <td>26/08/2020</td>\n      <td>44</td>\n      <td>2</td>\n    </tr>\n    <tr>\n      <th>2290</th>\n      <td>BH</td>\n      <td>NBRA</td>\n      <td>27/08/2020</td>\n      <td>190</td>\n      <td>3</td>\n    </tr>\n    <tr>\n      <th>2291</th>\n      <td>BH</td>\n      <td>NBRA</td>\n      <td>28/08/2020</td>\n      <td>202</td>\n      <td>4</td>\n    </tr>\n  </tbody>\n</table>\n<p>2292 rows × 5 columns</p>\n</div>"
     },
     "metadata": {},
     "execution_count": 16
    }
   ],
   "source": [
    "df_inventory['weekday'] = pd.Series(df_inventory.date.apply(get_weekend_v2))\n",
    "df_inventory"
   ]
  },
  {
   "cell_type": "code",
   "execution_count": 17,
   "metadata": {
    "id": "YVCK9xD4_3Eb"
   },
   "outputs": [],
   "source": [
    "#df_inventory = df_inventory.groupby(['signal','program_code','weekday'],as_index=True).sum()\n",
    "#df_inventory"
   ]
  },
  {
   "cell_type": "code",
   "execution_count": 18,
   "metadata": {
    "id": "aQuj72WJM_tp"
   },
   "outputs": [],
   "source": [
    "#df_inventory.to_csv('tratados-'+file_inventory)\n"
   ]
  },
  {
   "cell_type": "markdown",
   "metadata": {
    "id": "BXs-iteA1gMo"
   },
   "source": [
    "# Tratamendo do merge dos dataframes"
   ]
  },
  {
   "cell_type": "markdown",
   "metadata": {
    "id": "HAYpvDCChLAn"
   },
   "source": [
    "### Verificar o dataframe do audiences"
   ]
  },
  {
   "cell_type": "code",
   "execution_count": 19,
   "metadata": {
    "id": "x97B-6BbNSmG"
   },
   "outputs": [
    {
     "output_type": "execute_result",
     "data": {
      "text/plain": "                             average_audience\nsignal program_code weekday                  \nBH     ACDA         5               460454.20\n       ALTA         5               201008.82\n       AUTO         6               197990.32\n       BIAL         0               113326.74\n                    1                90521.87\n...                                       ...\nSP1    VALE         3              1827112.19\n                    4              1856927.41\n       VOIK         6               994919.87\n       ZORR         5              1693933.70\n       _999         5               717788.87\n\n[977 rows x 1 columns]",
      "text/html": "<div>\n<style scoped>\n    .dataframe tbody tr th:only-of-type {\n        vertical-align: middle;\n    }\n\n    .dataframe tbody tr th {\n        vertical-align: top;\n    }\n\n    .dataframe thead th {\n        text-align: right;\n    }\n</style>\n<table border=\"1\" class=\"dataframe\">\n  <thead>\n    <tr style=\"text-align: right;\">\n      <th></th>\n      <th></th>\n      <th></th>\n      <th>average_audience</th>\n    </tr>\n    <tr>\n      <th>signal</th>\n      <th>program_code</th>\n      <th>weekday</th>\n      <th></th>\n    </tr>\n  </thead>\n  <tbody>\n    <tr>\n      <th rowspan=\"5\" valign=\"top\">BH</th>\n      <th>ACDA</th>\n      <th>5</th>\n      <td>460454.20</td>\n    </tr>\n    <tr>\n      <th>ALTA</th>\n      <th>5</th>\n      <td>201008.82</td>\n    </tr>\n    <tr>\n      <th>AUTO</th>\n      <th>6</th>\n      <td>197990.32</td>\n    </tr>\n    <tr>\n      <th rowspan=\"2\" valign=\"top\">BIAL</th>\n      <th>0</th>\n      <td>113326.74</td>\n    </tr>\n    <tr>\n      <th>1</th>\n      <td>90521.87</td>\n    </tr>\n    <tr>\n      <th>...</th>\n      <th>...</th>\n      <th>...</th>\n      <td>...</td>\n    </tr>\n    <tr>\n      <th rowspan=\"5\" valign=\"top\">SP1</th>\n      <th rowspan=\"2\" valign=\"top\">VALE</th>\n      <th>3</th>\n      <td>1827112.19</td>\n    </tr>\n    <tr>\n      <th>4</th>\n      <td>1856927.41</td>\n    </tr>\n    <tr>\n      <th>VOIK</th>\n      <th>6</th>\n      <td>994919.87</td>\n    </tr>\n    <tr>\n      <th>ZORR</th>\n      <th>5</th>\n      <td>1693933.70</td>\n    </tr>\n    <tr>\n      <th>_999</th>\n      <th>5</th>\n      <td>717788.87</td>\n    </tr>\n  </tbody>\n</table>\n<p>977 rows × 1 columns</p>\n</div>"
     },
     "metadata": {},
     "execution_count": 19
    }
   ],
   "source": [
    "df_audience"
   ]
  },
  {
   "cell_type": "markdown",
   "metadata": {
    "id": "CVZIrtakhRM9"
   },
   "source": [
    "### Verificar o dataframe do inventory"
   ]
  },
  {
   "cell_type": "code",
   "execution_count": 20,
   "metadata": {
    "id": "BhbVHxl6Pa_x"
   },
   "outputs": [
    {
     "output_type": "execute_result",
     "data": {
      "text/plain": "     signal program_code        date  available_time  weekday\n0       SP1         HUCK  25/07/2020              10        5\n1       SP1         HUCK  01/08/2020             300        5\n2       SP1         HUCK  08/08/2020             118        5\n3       SP1         HUCK  15/08/2020             106        5\n4       SP1         HUCK  22/08/2020               6        5\n...     ...          ...         ...             ...      ...\n2287     BH         NBRA  24/08/2020             218        0\n2288     BH         NBRA  25/08/2020              66        1\n2289     BH         NBRA  26/08/2020              44        2\n2290     BH         NBRA  27/08/2020             190        3\n2291     BH         NBRA  28/08/2020             202        4\n\n[2292 rows x 5 columns]",
      "text/html": "<div>\n<style scoped>\n    .dataframe tbody tr th:only-of-type {\n        vertical-align: middle;\n    }\n\n    .dataframe tbody tr th {\n        vertical-align: top;\n    }\n\n    .dataframe thead th {\n        text-align: right;\n    }\n</style>\n<table border=\"1\" class=\"dataframe\">\n  <thead>\n    <tr style=\"text-align: right;\">\n      <th></th>\n      <th>signal</th>\n      <th>program_code</th>\n      <th>date</th>\n      <th>available_time</th>\n      <th>weekday</th>\n    </tr>\n  </thead>\n  <tbody>\n    <tr>\n      <th>0</th>\n      <td>SP1</td>\n      <td>HUCK</td>\n      <td>25/07/2020</td>\n      <td>10</td>\n      <td>5</td>\n    </tr>\n    <tr>\n      <th>1</th>\n      <td>SP1</td>\n      <td>HUCK</td>\n      <td>01/08/2020</td>\n      <td>300</td>\n      <td>5</td>\n    </tr>\n    <tr>\n      <th>2</th>\n      <td>SP1</td>\n      <td>HUCK</td>\n      <td>08/08/2020</td>\n      <td>118</td>\n      <td>5</td>\n    </tr>\n    <tr>\n      <th>3</th>\n      <td>SP1</td>\n      <td>HUCK</td>\n      <td>15/08/2020</td>\n      <td>106</td>\n      <td>5</td>\n    </tr>\n    <tr>\n      <th>4</th>\n      <td>SP1</td>\n      <td>HUCK</td>\n      <td>22/08/2020</td>\n      <td>6</td>\n      <td>5</td>\n    </tr>\n    <tr>\n      <th>...</th>\n      <td>...</td>\n      <td>...</td>\n      <td>...</td>\n      <td>...</td>\n      <td>...</td>\n    </tr>\n    <tr>\n      <th>2287</th>\n      <td>BH</td>\n      <td>NBRA</td>\n      <td>24/08/2020</td>\n      <td>218</td>\n      <td>0</td>\n    </tr>\n    <tr>\n      <th>2288</th>\n      <td>BH</td>\n      <td>NBRA</td>\n      <td>25/08/2020</td>\n      <td>66</td>\n      <td>1</td>\n    </tr>\n    <tr>\n      <th>2289</th>\n      <td>BH</td>\n      <td>NBRA</td>\n      <td>26/08/2020</td>\n      <td>44</td>\n      <td>2</td>\n    </tr>\n    <tr>\n      <th>2290</th>\n      <td>BH</td>\n      <td>NBRA</td>\n      <td>27/08/2020</td>\n      <td>190</td>\n      <td>3</td>\n    </tr>\n    <tr>\n      <th>2291</th>\n      <td>BH</td>\n      <td>NBRA</td>\n      <td>28/08/2020</td>\n      <td>202</td>\n      <td>4</td>\n    </tr>\n  </tbody>\n</table>\n<p>2292 rows × 5 columns</p>\n</div>"
     },
     "metadata": {},
     "execution_count": 20
    }
   ],
   "source": [
    "df_inventory"
   ]
  },
  {
   "cell_type": "markdown",
   "metadata": {
    "id": "p2QkCZFPhWCB"
   },
   "source": [
    "### Fazer o merge dos dataframes"
   ]
  },
  {
   "cell_type": "code",
   "execution_count": 21,
   "metadata": {
    "id": "Wvt4E-Oe162p"
   },
   "outputs": [
    {
     "output_type": "execute_result",
     "data": {
      "text/plain": "     signal program_code  weekday  average_audience        date  \\\n0        BH         AUTO        6         197990.32  26/07/2020   \n1        BH         AUTO        6         197990.32  02/08/2020   \n2        BH         AUTO        6         197990.32  09/08/2020   \n3        BH         AUTO        6         197990.32  16/08/2020   \n4        BH         AUTO        6         197990.32  23/08/2020   \n...     ...          ...      ...               ...         ...   \n1975    SP1         VALE        4        1856927.41  31/07/2020   \n1976    SP1         VALE        4        1856927.41  07/08/2020   \n1977    SP1         VALE        4        1856927.41  14/08/2020   \n1978    SP1         VALE        4        1856927.41  21/08/2020   \n1979    SP1         VALE        4        1856927.41  28/08/2020   \n\n      available_time  \n0                140  \n1                 94  \n2                 38  \n3                262  \n4                296  \n...              ...  \n1975             190  \n1976             226  \n1977              14  \n1978             284  \n1979              56  \n\n[1980 rows x 6 columns]",
      "text/html": "<div>\n<style scoped>\n    .dataframe tbody tr th:only-of-type {\n        vertical-align: middle;\n    }\n\n    .dataframe tbody tr th {\n        vertical-align: top;\n    }\n\n    .dataframe thead th {\n        text-align: right;\n    }\n</style>\n<table border=\"1\" class=\"dataframe\">\n  <thead>\n    <tr style=\"text-align: right;\">\n      <th></th>\n      <th>signal</th>\n      <th>program_code</th>\n      <th>weekday</th>\n      <th>average_audience</th>\n      <th>date</th>\n      <th>available_time</th>\n    </tr>\n  </thead>\n  <tbody>\n    <tr>\n      <th>0</th>\n      <td>BH</td>\n      <td>AUTO</td>\n      <td>6</td>\n      <td>197990.32</td>\n      <td>26/07/2020</td>\n      <td>140</td>\n    </tr>\n    <tr>\n      <th>1</th>\n      <td>BH</td>\n      <td>AUTO</td>\n      <td>6</td>\n      <td>197990.32</td>\n      <td>02/08/2020</td>\n      <td>94</td>\n    </tr>\n    <tr>\n      <th>2</th>\n      <td>BH</td>\n      <td>AUTO</td>\n      <td>6</td>\n      <td>197990.32</td>\n      <td>09/08/2020</td>\n      <td>38</td>\n    </tr>\n    <tr>\n      <th>3</th>\n      <td>BH</td>\n      <td>AUTO</td>\n      <td>6</td>\n      <td>197990.32</td>\n      <td>16/08/2020</td>\n      <td>262</td>\n    </tr>\n    <tr>\n      <th>4</th>\n      <td>BH</td>\n      <td>AUTO</td>\n      <td>6</td>\n      <td>197990.32</td>\n      <td>23/08/2020</td>\n      <td>296</td>\n    </tr>\n    <tr>\n      <th>...</th>\n      <td>...</td>\n      <td>...</td>\n      <td>...</td>\n      <td>...</td>\n      <td>...</td>\n      <td>...</td>\n    </tr>\n    <tr>\n      <th>1975</th>\n      <td>SP1</td>\n      <td>VALE</td>\n      <td>4</td>\n      <td>1856927.41</td>\n      <td>31/07/2020</td>\n      <td>190</td>\n    </tr>\n    <tr>\n      <th>1976</th>\n      <td>SP1</td>\n      <td>VALE</td>\n      <td>4</td>\n      <td>1856927.41</td>\n      <td>07/08/2020</td>\n      <td>226</td>\n    </tr>\n    <tr>\n      <th>1977</th>\n      <td>SP1</td>\n      <td>VALE</td>\n      <td>4</td>\n      <td>1856927.41</td>\n      <td>14/08/2020</td>\n      <td>14</td>\n    </tr>\n    <tr>\n      <th>1978</th>\n      <td>SP1</td>\n      <td>VALE</td>\n      <td>4</td>\n      <td>1856927.41</td>\n      <td>21/08/2020</td>\n      <td>284</td>\n    </tr>\n    <tr>\n      <th>1979</th>\n      <td>SP1</td>\n      <td>VALE</td>\n      <td>4</td>\n      <td>1856927.41</td>\n      <td>28/08/2020</td>\n      <td>56</td>\n    </tr>\n  </tbody>\n</table>\n<p>1980 rows × 6 columns</p>\n</div>"
     },
     "metadata": {},
     "execution_count": 21
    }
   ],
   "source": [
    "result = pd.merge(df_audience, df_inventory, on=['signal','program_code','weekday'])\n",
    "result"
   ]
  },
  {
   "cell_type": "markdown",
   "metadata": {
    "id": "xXjs7yWZhbyq"
   },
   "source": [
    "### Salvar o novo dataframe"
   ]
  },
  {
   "cell_type": "code",
   "execution_count": 22,
   "metadata": {
    "id": "TTuJPgXBhf4w"
   },
   "outputs": [],
   "source": [
    "result.to_csv(file_resultado_final, index=False)"
   ]
  },
  {
   "cell_type": "markdown",
   "metadata": {
    "id": "vxBxQJ8eMHZv"
   },
   "source": [
    "# Fazer backup do velho e enviar resposta para o bucket"
   ]
  },
  {
   "cell_type": "code",
   "execution_count": 23,
   "metadata": {
    "id": "wc-L-Z1EMKiQ",
    "tags": []
   },
   "outputs": [
    {
     "output_type": "stream",
     "name": "stdout",
     "text": "Copying gs://bucket-for-teste/bq-resultado/resultado.csv [Content-Type=text/csv]...\nRemoving gs://bucket-for-teste/bq-resultado/resultado.csv...\n\nOperation completed over 1 objects/68.0 KiB.                                     \nCopying file://resultado.csv [Content-Type=text/csv]...\n\nOperation completed over 1 objects/68.0 KiB.                                     \n"
    }
   ],
   "source": [
    "import time\n",
    "\n",
    "millis = int(round(time.time() * 1000))\n",
    "\n",
    "!gsutil -m mv {path_resultado_final} {path_backup}-{millis}.csv\n",
    "\n",
    "!gsutil -m cp {file_resultado_final} {path_resultado_final}\n"
   ]
  },
  {
   "cell_type": "markdown",
   "metadata": {},
   "source": [
    "# Reprocessar BigQuery"
   ]
  },
  {
   "cell_type": "code",
   "execution_count": 24,
   "metadata": {
    "tags": []
   },
   "outputs": [
    {
     "output_type": "stream",
     "name": "stdout",
     "text": "Waiting on bqjob_r5871e07c32e70746_00000174f93a7bc7_1 ... (1s) Current status: DONE   \n"
    }
   ],
   "source": [
    "nome_tabela_bq = \"dataset_01.resultado\"\n",
    "\n",
    "!bq rm -f -t {nome_tabela_bq}\n",
    "\n",
    "!bq load --quote \"\" --autodetect --format=csv {nome_tabela_bq} {path_resultado_final}"
   ]
  }
 ],
 "metadata": {
  "colab": {
   "collapsed_sections": [],
   "name": "tvaberta.ipynb",
   "provenance": [],
   "toc_visible": true
  },
  "kernelspec": {
   "name": "python_defaultSpec_1601997727795",
   "display_name": "Python 3.8.2 64-bit",
   "metadata": {
    "interpreter": {
     "hash": "31f2aee4e71d21fbe5cf8b01ff0e069b9275f58929596ceb00d14d90e3e16cd6"
    }
   }
  },
  "language_info": {
   "codemirror_mode": {
    "name": "ipython",
    "version": 3
   },
   "file_extension": ".py",
   "mimetype": "text/x-python",
   "name": "python",
   "nbconvert_exporter": "python",
   "pygments_lexer": "ipython3",
   "version": "3.8.2-final"
  }
 },
 "nbformat": 4,
 "nbformat_minor": 4
}